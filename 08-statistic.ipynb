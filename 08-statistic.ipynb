{
  "nbformat": 4,
  "nbformat_minor": 0,
  "metadata": {
    "colab": {
      "name": "Aula8Estatistica.ipynb",
      "provenance": []
    },
    "kernelspec": {
      "name": "python3",
      "display_name": "Python 3"
    }
  },
  "cells": [
    {
      "cell_type": "markdown",
      "metadata": {
        "id": "0aNqI92LhcCG",
        "colab_type": "text"
      },
      "source": [
        "#Aula 08 - Exercícios sobre variáveis aleatórias\n",
        "\n",
        "teremos uma urna e nessa urna colocaremos bolas brancas e bolas pretas. \n",
        "Sendo 4 bolas brancas e 2 bolas pretas\n",
        "\n",
        "estaremos interessados em saber qual a distribuição de probabilidade \"V.A(x): obter 2 bolas pretas\""
      ]
    },
    {
      "cell_type": "code",
      "metadata": {
        "id": "7m4N1afihXFI",
        "colab_type": "code",
        "colab": {}
      },
      "source": [
        "def factorial(a):\n",
        "  elements = []\n",
        "  for i in range(a-1):\n",
        "    elements.append(a-i)\n",
        "  results = 1\n",
        "  for j in elements:\n",
        "    results = results * j\n",
        "  return results\n",
        "\n",
        "def combinatory(n,p):\n",
        "  return factorial(n)/(factorial(p)*factorial(n-p))\n"
      ],
      "execution_count": 0,
      "outputs": []
    },
    {
      "cell_type": "markdown",
      "metadata": {
        "id": "_p7AkZSHi5OO",
        "colab_type": "text"
      },
      "source": [
        "Para encontrar o espraço amostral nos precisamos calcular a combinação das 6 bolas em 2 . "
      ]
    },
    {
      "cell_type": "code",
      "metadata": {
        "id": "_nngTf8miyQv",
        "colab_type": "code",
        "colab": {
          "base_uri": "https://localhost:8080/",
          "height": 34
        },
        "outputId": "752f0d8d-4fe7-444a-8f76-ffa463ad5755"
      },
      "source": [
        "print(\"espaço amostral S={\",combinatory(6,2),\"}\")"
      ],
      "execution_count": 3,
      "outputs": [
        {
          "output_type": "stream",
          "text": [
            "espaço amostral S={ 15.0 }\n"
          ],
          "name": "stdout"
        }
      ]
    },
    {
      "cell_type": "code",
      "metadata": {
        "id": "vYtXwpKijeQu",
        "colab_type": "code",
        "colab": {
          "base_uri": "https://localhost:8080/",
          "height": 102
        },
        "outputId": "a4e8c919-2b87-432c-dba9-f09755c92494"
      },
      "source": [
        "#A se temos 6 bolas , seno 2 pretas. Na primeira retirada temos a probabilidade e 2/6 de retirar uma bola branca\n",
        "#na segunda temos a probabilidade de retirar 1/5\n",
        "# P P  \n",
        "print(\"probabilidade de sair p(x=2):\",(2/6)*(1/5))\n",
        "\n",
        "#na primeira tentativa temos 2/6, na segunda há 4/5 de tirar uma branca e na terceira tirar uma preta temos 1/4. Como\n",
        "#isso pode acontecer de 2 maneiras diferentes \n",
        "#P B P\n",
        "#B P P \n",
        "print(\"probabilidade de sair p(x=3)\",((2/6)*(4/5)*(1/4))*2)\n",
        "\n",
        "#P B B P\n",
        "#B P B P\n",
        "#B B P P\n",
        "print(\"probabilidade de sair p(x=4)\",((2/6)*(4/5)*(3/4)*(1/3))*3)\n",
        "\n",
        "#P B B B P\n",
        "#B P B B P\n",
        "#B B P B P\n",
        "#B B B P P\n",
        "print(\"probabiliae de sair p(x=5)\",((2/6)*(4/5)*(3/2)*(1/2))*4)\n",
        "\n",
        "#P B B B B P\n",
        "#B P B B B P\n",
        "#B B P B B P\n",
        "#B B B P B P\n",
        "#B B B B P P\n",
        "print(\"probabiliae de sair p(x=6)\",((2/6)*(4/5)*(3/2)*(1/2)*(1/1))*5)"
      ],
      "execution_count": 12,
      "outputs": [
        {
          "output_type": "stream",
          "text": [
            "probabilidade de sair p(x=2): 0.06666666666666667\n",
            "probabilidade de sair p(x=3) 0.13333333333333333\n",
            "probabilidade de sair p(x=4) 0.2\n",
            "probabiliae de sair p(x=5) 0.8\n",
            "probabiliae de sair p(x=6) 1.0\n"
          ],
          "name": "stdout"
        }
      ]
    },
    {
      "cell_type": "code",
      "metadata": {
        "id": "ikknV1nUlicJ",
        "colab_type": "code",
        "colab": {}
      },
      "source": [
        "def fnprobability(x):\n",
        "  if x > 1:\n",
        "    return (x - 1)/15\n",
        "  else:\n",
        "    return 0"
      ],
      "execution_count": 0,
      "outputs": []
    },
    {
      "cell_type": "code",
      "metadata": {
        "id": "Gefn4HjFpB9w",
        "colab_type": "code",
        "colab": {
          "base_uri": "https://localhost:8080/",
          "height": 34
        },
        "outputId": "e643066b-d5a9-4f86-eae4-8431c7cda141"
      },
      "source": [
        "fnprobability(5)"
      ],
      "execution_count": 17,
      "outputs": [
        {
          "output_type": "execute_result",
          "data": {
            "text/plain": [
              "0.26666666666666666"
            ]
          },
          "metadata": {
            "tags": []
          },
          "execution_count": 17
        }
      ]
    },
    {
      "cell_type": "markdown",
      "metadata": {
        "id": "s94BZ29PqFL0",
        "colab_type": "text"
      },
      "source": [
        "#Confecção \n",
        "Melhor estrategia para as diferentes peças que eu quero colocar no mercado\n",
        "\n",
        "inverno quente /inverno frio\n",
        "\n",
        "Vestido 800 -300\n",
        "\n",
        "camiseta 100 -50\n",
        "\n",
        "Terno -100 150\n",
        "\n",
        "Camisa -300 500\n",
        "\n",
        "invernofrio = 0.4\n",
        "inverno quente = 0.6\n",
        "\n",
        "Quero saber qual produto tem melhor media/esperança projetada\n",
        "\n",
        "\n",
        "\n",
        "\n"
      ]
    },
    {
      "cell_type": "code",
      "metadata": {
        "id": "-IsehZ9tq65R",
        "colab_type": "code",
        "colab": {
          "base_uri": "https://localhost:8080/",
          "height": 85
        },
        "outputId": "45f75153-a0cd-48d5-f18b-b3b50a6c9adb"
      },
      "source": [
        "print(\"Esperança(vestido)\",0.6*800+0.4*(-300))\n",
        "print(\"Esperança(camisetas)\",0.6*100+0.4*-(-50))\n",
        "print(\"Esperança(camisas)\",0.6*(-100)+0.4*150)\n",
        "print(\"Esperança(terno)\",0.6*(-300)+0.4*500)\n"
      ],
      "execution_count": 21,
      "outputs": [
        {
          "output_type": "stream",
          "text": [
            "Esperança(vestido) 360.0\n",
            "Esperança(camisetas) 80.0\n",
            "Esperança(camisas) 0.0\n",
            "Esperança(terno) 20.0\n"
          ],
          "name": "stdout"
        }
      ]
    },
    {
      "cell_type": "code",
      "metadata": {
        "id": "M-kopcz3rNJa",
        "colab_type": "code",
        "colab": {}
      },
      "source": [
        ""
      ],
      "execution_count": 0,
      "outputs": []
    },
    {
      "cell_type": "markdown",
      "metadata": {
        "id": "dwglbYflrzLg",
        "colab_type": "text"
      },
      "source": [
        "Nesse caso dados os resultados , sugerimos ao logista a investir nos vestidinhos\n",
        "\n",
        "Porem uma estrategia mais conservadora seria investir nas camisas quando se trata de valores muitos elevados"
      ]
    }
  ]
}
