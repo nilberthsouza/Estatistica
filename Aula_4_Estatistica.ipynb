{
  "nbformat": 4,
  "nbformat_minor": 0,
  "metadata": {
    "colab": {
      "name": "Aula 4-Estatistica.ipynb",
      "provenance": []
    },
    "kernelspec": {
      "name": "python3",
      "display_name": "Python 3"
    }
  },
  "cells": [
    {
      "cell_type": "markdown",
      "metadata": {
        "id": "J1H4u8Qk0ka0",
        "colab_type": "text"
      },
      "source": [
        "#Criando Algoritmo para analise Combinatoria com Python\n",
        "\n",
        "A ideia é criar um algoritimo para calculo combinatorio usando python\n",
        "Precisaremos usar o numpy pra calcularmos o produto de uma lista\n",
        "sabemos que o fatorial de 5 é definido por 5*4*3*2*1\n",
        "e que o fatorial de 10 é definido por 10*9*7*6*5*4*3*2*1\n",
        "O primeiro insight que podemos tirar é que partindo de um numero N se iteramos por N-1 e incrementando o numero de iterações chegaremos algo a proximo. \n",
        "\n",
        "\n",
        "###Por exemplo:\n",
        "fatorial de 5 , iteraremos por 5 vezes e incrementando o numero de iterações partindo do 0(em computaçaõ o primeiro indice geralmente é zero) , em seguinda 2, em seguida 3, em seguida 4\n",
        "\n",
        "Na iteração de indice 0 ,N é  5 e então subtrairemos de 5 o indice de iteração. Como se trata da primeira o indice é 0. logo 5-0 é 5 e teremos o primeiro elemento\n",
        "\n",
        "Na iteração de indice 1 ,N é 5 e então subtrairemos de 5 o indice de iteração. como se trata da segunda i o indice é 1. logo 5-1 =4 e teremos o segundo item da lista. \n",
        "\n",
        "Na iteração de indice 2 ,N é 5  então subtrairemos de 5 o indice de iteração. Como se trata da terceira iteração o indice é 2. Logo 5-2 igual a 3\n",
        "\n",
        "Na iteração de indice 3, N é 5 então subtrairemos de 5 o indice de iteração. Como se trata da quarta iteração o indice é 3. Logo 5 - 3 é igual a 2\n",
        "\n",
        "Na iteração de indice 4, N é'igual a 5 então subtrairemos de 5 o indice de iteração. Como se trata da quinta iteração o indice é 4. logo 5 - 4 é igual a 1\n",
        "\n"
      ]
    },
    {
      "cell_type": "markdown",
      "metadata": {
        "id": "G6NAcqXB4UjV",
        "colab_type": "text"
      },
      "source": [
        "Na função abaixo criaremos uma função factorial que recebera um argumento\n",
        "em seguia criaremos uma lista pra amarzenas os resultados das iterações\n",
        "então criamos um lanço for each que itera i ,partindo de i = 0 e adciona na lista elements a - i a cada iteração. No fim realizaremos um for each na lista pra multiplicar todos os itens e então retornamos o valor"
      ]
    },
    {
      "cell_type": "code",
      "metadata": {
        "id": "kgaOzmAP379P",
        "colab_type": "code",
        "colab": {}
      },
      "source": [
        "def factorial(a):\n",
        "  elements = []\n",
        "  for i in range(a-1):\n",
        "    elements.append(a-i)\n",
        "  results = 1\n",
        "  for j in elements:\n",
        "    results = results * j\n",
        "  return results"
      ],
      "execution_count": 0,
      "outputs": []
    },
    {
      "cell_type": "markdown",
      "metadata": {
        "id": "hI2XZ3MO5HcO",
        "colab_type": "text"
      },
      "source": [
        "Abaixo uma demonstração a função que retorna o fatorial de 5"
      ]
    },
    {
      "cell_type": "code",
      "metadata": {
        "id": "SgGcQfrw4KTa",
        "colab_type": "code",
        "colab": {
          "base_uri": "https://localhost:8080/",
          "height": 34
        },
        "outputId": "69f3bcc7-dfcd-4629-81ae-9e5ad00968ea"
      },
      "source": [
        "factorial(60)"
      ],
      "execution_count": 31,
      "outputs": [
        {
          "output_type": "execute_result",
          "data": {
            "text/plain": [
              "8320987112741390144276341183223364380754172606361245952449277696409600000000000000"
            ]
          },
          "metadata": {
            "tags": []
          },
          "execution_count": 31
        }
      ]
    },
    {
      "cell_type": "markdown",
      "metadata": {
        "id": "XruaHMlx5Pmm",
        "colab_type": "text"
      },
      "source": [
        "Agora que sabemos como encontrar o fatorial de um numero nos iremos implementar o algoritimo para analise combinatoria. \n",
        "\n",
        "O algorimo que queremos implementar dando (n p)\n",
        "\n",
        "onde n é o numero de elementos no conjunto amostral\n",
        "\n",
        "onde p é o numero de elementos no escolhidos\n",
        "\n"
      ]
    },
    {
      "cell_type": "code",
      "metadata": {
        "id": "6Kv1xOwM5kiy",
        "colab_type": "code",
        "colab": {}
      },
      "source": [
        "def combinatory(n,p):\n",
        "  return factorial(n)/(factorial(p)*factorial(n-p))\n"
      ],
      "execution_count": 0,
      "outputs": []
    },
    {
      "cell_type": "markdown",
      "metadata": {
        "id": "Rdpt7tIh6KS6",
        "colab_type": "text"
      },
      "source": [
        "Ex: quantas comissões de 3 pessoas podem ser formadas por um grupo de 10 pessoas"
      ]
    },
    {
      "cell_type": "code",
      "metadata": {
        "id": "aZSw1cuq5aZv",
        "colab_type": "code",
        "colab": {
          "base_uri": "https://localhost:8080/",
          "height": 34
        },
        "outputId": "6c513a9d-cb6d-4518-e827-ec920f422330"
      },
      "source": [
        "combinatory(10,3)"
      ],
      "execution_count": 33,
      "outputs": [
        {
          "output_type": "execute_result",
          "data": {
            "text/plain": [
              "120.0"
            ]
          },
          "metadata": {
            "tags": []
          },
          "execution_count": 33
        }
      ]
    },
    {
      "cell_type": "markdown",
      "metadata": {
        "id": "CyxpoWJx7G5s",
        "colab_type": "text"
      },
      "source": [
        "também podemos criar arranjos:\n",
        "\n",
        "one r éo numero de elementos no conjunto amostral\n",
        "p é o numero de elementos escolhisdos\n",
        "a é numero de arranjos possiveis\n",
        "\n",
        "Ar,p = R!/(r-p)!"
      ]
    },
    {
      "cell_type": "code",
      "metadata": {
        "id": "gMz4S8nV7gaz",
        "colab_type": "code",
        "colab": {}
      },
      "source": [
        "def arrangement(r,p):\n",
        "  return factorial(r)/factorial(r-p)"
      ],
      "execution_count": 0,
      "outputs": []
    },
    {
      "cell_type": "markdown",
      "metadata": {
        "id": "cNSWEPjW7-QX",
        "colab_type": "text"
      },
      "source": [
        "exemplo:\n",
        "grupo de dez pessoas, quantas chapas diferentes com presidente, tesoureiro e secretario?"
      ]
    },
    {
      "cell_type": "code",
      "metadata": {
        "id": "mdt3AMBK8EWZ",
        "colab_type": "code",
        "colab": {
          "base_uri": "https://localhost:8080/",
          "height": 34
        },
        "outputId": "3b211a6d-b477-4d41-c1cb-4f1ccef3e956"
      },
      "source": [
        "arrangement(10,3)"
      ],
      "execution_count": 35,
      "outputs": [
        {
          "output_type": "execute_result",
          "data": {
            "text/plain": [
              "720.0"
            ]
          },
          "metadata": {
            "tags": []
          },
          "execution_count": 35
        }
      ]
    },
    {
      "cell_type": "markdown",
      "metadata": {
        "id": "_LJQaTET8V5C",
        "colab_type": "text"
      },
      "source": [
        "Exercicio Comentado:\n",
        "\n",
        "Qual a chance de acertar o 6 numeros a megasena\n",
        "\n",
        "60 numeros podem ser sortiados\n",
        "6 seram sortiados efetivamenete"
      ]
    },
    {
      "cell_type": "markdown",
      "metadata": {
        "id": "pjuxlMdm8-9m",
        "colab_type": "text"
      },
      "source": [
        "Espaço amostral é 60 numeros"
      ]
    },
    {
      "cell_type": "markdown",
      "metadata": {
        "id": "knwB57oK8nfi",
        "colab_type": "text"
      },
      "source": [
        "A - Qual a chance de sair o numero 07"
      ]
    },
    {
      "cell_type": "code",
      "metadata": {
        "id": "6dpCuwvC8zpO",
        "colab_type": "code",
        "colab": {
          "base_uri": "https://localhost:8080/",
          "height": 34
        },
        "outputId": "3728091d-35af-4c98-fc49-fb6a2e14f6e2"
      },
      "source": [
        "1/60"
      ],
      "execution_count": 36,
      "outputs": [
        {
          "output_type": "execute_result",
          "data": {
            "text/plain": [
              "0.016666666666666666"
            ]
          },
          "metadata": {
            "tags": []
          },
          "execution_count": 36
        }
      ]
    },
    {
      "cell_type": "markdown",
      "metadata": {
        "id": "yuwhTNYb8py-",
        "colab_type": "text"
      },
      "source": [
        "B - Qual a chance de sair o numero 07 e 46"
      ]
    },
    {
      "cell_type": "code",
      "metadata": {
        "id": "cKdDgLJN8zAh",
        "colab_type": "code",
        "colab": {
          "base_uri": "https://localhost:8080/",
          "height": 34
        },
        "outputId": "bb7f0e7c-e0d8-44da-bcd2-ad50a1329a27"
      },
      "source": [
        "(1/60)*(1/59)"
      ],
      "execution_count": 37,
      "outputs": [
        {
          "output_type": "execute_result",
          "data": {
            "text/plain": [
              "0.0002824858757062147"
            ]
          },
          "metadata": {
            "tags": []
          },
          "execution_count": 37
        }
      ]
    },
    {
      "cell_type": "markdown",
      "metadata": {
        "id": "NjHYV2UI8vhc",
        "colab_type": "text"
      },
      "source": [
        "C-Qual a chance de acertar a mega sena"
      ]
    },
    {
      "cell_type": "code",
      "metadata": {
        "id": "Acg277ee8uXV",
        "colab_type": "code",
        "colab": {
          "base_uri": "https://localhost:8080/",
          "height": 34
        },
        "outputId": "566c5f9f-5867-490e-9080-bf0f435e8c58"
      },
      "source": [
        "#n = 60\n",
        "#p = 6\n",
        "combinatory(60,6)"
      ],
      "execution_count": 38,
      "outputs": [
        {
          "output_type": "execute_result",
          "data": {
            "text/plain": [
              "50063860.0"
            ]
          },
          "metadata": {
            "tags": []
          },
          "execution_count": 38
        }
      ]
    },
    {
      "cell_type": "markdown",
      "metadata": {
        "id": "dSaJlb1L-1oP",
        "colab_type": "text"
      },
      "source": [
        "probabilidade vai ser 1 / combinatory(60,6)"
      ]
    },
    {
      "cell_type": "code",
      "metadata": {
        "id": "jJjLiWdCJg2p",
        "colab_type": "code",
        "colab": {
          "base_uri": "https://localhost:8080/",
          "height": 34
        },
        "outputId": "542dd01f-27d0-4690-e0d0-2eb6f178ecfa"
      },
      "source": [
        "1/combinatory(60,6)"
      ],
      "execution_count": 39,
      "outputs": [
        {
          "output_type": "execute_result",
          "data": {
            "text/plain": [
              "1.997448858318156e-08"
            ]
          },
          "metadata": {
            "tags": []
          },
          "execution_count": 39
        }
      ]
    }
  ]
}