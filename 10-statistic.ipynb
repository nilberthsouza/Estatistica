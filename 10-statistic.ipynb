{
 "cells": [
  {
   "cell_type": "markdown",
   "metadata": {
    "colab_type": "text",
    "id": "CPK30bEwTL6e"
   },
   "source": [
    "# Aula 10 Estatistica\n",
    "\n",
    "Exercicicios sobre distribuição de probabilidade\n",
    "\n",
    "Apresentar aplicações dos conceitos de distribuição de probabilidade\n",
    "\n",
    "## Primeiro exercicios\n",
    "### Binomial\n",
    "\n",
    "60% dos consumidores preferem a marca  A\n",
    "\n",
    "40% dos consumidores preferem a marca B\n",
    "\n",
    "6 consumidores escolhidos ao acaso\n",
    "\n"
   ]
  },
  {
   "cell_type": "markdown",
   "metadata": {
    "colab_type": "text",
    "id": "SzlfuQx1TqlV"
   },
   "source": [
    "Probabilidade de exatamente 3 preferirem a marca A \n",
    "\n",
    "Probabilidade de pelos menos 3 preferirem A?\n",
    "\n",
    "Probabilidade de no maximo 1 Preferir A?\n",
    "\n",
    "Media e desvio padrão?"
   ]
  },
  {
   "cell_type": "markdown",
   "metadata": {
    "colab_type": "text",
    "id": "DnZV121nUEGc"
   },
   "source": [
    "A probabilidade de x ser igual a K onde K é o numero de sucessos vai ser dado por\n",
    "\n",
    "P(x = k) = combinatorory(n,k).(p^k).(q^n(n-k))\n",
    "\n",
    "p = 0,6\n",
    "\n",
    "q = 0,4\n",
    "\n",
    "a) k = 3\n",
    "\n",
    "b) k >= 3\n",
    "\n",
    "c) k =< 1\n",
    "\n",
    "N = 6"
   ]
  },
  {
   "cell_type": "markdown",
   "metadata": {},
   "source": [
    "Para K igual a 3 temos"
   ]
  },
  {
   "cell_type": "code",
   "execution_count": 2,
   "metadata": {},
   "outputs": [
    {
     "data": {
      "text/plain": [
       "0.2764800000000001"
      ]
     },
     "execution_count": 2,
     "metadata": {},
     "output_type": "execute_result"
    }
   ],
   "source": [
    "from scipy.stats import binom\n",
    "\n",
    "\n",
    "binom.pmf(3,6,0.6)"
   ]
  },
  {
   "cell_type": "markdown",
   "metadata": {},
   "source": [
    "para K igual a 4, ou seja , exatamente 4 consumidores preferirem a marca A"
   ]
  },
  {
   "cell_type": "code",
   "execution_count": 3,
   "metadata": {},
   "outputs": [
    {
     "data": {
      "text/plain": [
       "0.31104"
      ]
     },
     "execution_count": 3,
     "metadata": {},
     "output_type": "execute_result"
    }
   ],
   "source": [
    "binom.pmf(4,6,0.6)"
   ]
  },
  {
   "cell_type": "markdown",
   "metadata": {},
   "source": [
    "para K igual a 5, ou seja , exatamente 5 consumidores preferirem a marca A\n"
   ]
  },
  {
   "cell_type": "code",
   "execution_count": 4,
   "metadata": {},
   "outputs": [
    {
     "data": {
      "text/plain": [
       "0.18662400000000007"
      ]
     },
     "execution_count": 4,
     "metadata": {},
     "output_type": "execute_result"
    }
   ],
   "source": [
    "binom.pmf(5,6,0.6)"
   ]
  },
  {
   "cell_type": "code",
   "execution_count": null,
   "metadata": {},
   "outputs": [],
   "source": [
    "Para K igual a 6, ou seja, exatamente 6 consumidores preferirem a marca A"
   ]
  },
  {
   "cell_type": "code",
   "execution_count": 5,
   "metadata": {},
   "outputs": [
    {
     "data": {
      "text/plain": [
       "0.04665599999999999"
      ]
     },
     "execution_count": 5,
     "metadata": {},
     "output_type": "execute_result"
    }
   ],
   "source": [
    "binom.pmf(6,6,0.6)"
   ]
  },
  {
   "cell_type": "markdown",
   "metadata": {},
   "source": [
    "Então, para $ P(k\\geq 3)   $ é a soma de k = 3, k=4, k=5 e k=6"
   ]
  },
  {
   "cell_type": "code",
   "execution_count": 12,
   "metadata": {},
   "outputs": [
    {
     "name": "stdout",
     "output_type": "stream",
     "text": [
      "0.8208000000000002\n"
     ]
    }
   ],
   "source": [
    "k = 3\n",
    "dist = []\n",
    "for k in range(6+1):\n",
    "    if k >= 3:\n",
    "        dist.append(binom.pmf(k,6,0.6))\n",
    "    else:\n",
    "        pass\n",
    "\n",
    "print(sum(dist))"
   ]
  },
  {
   "cell_type": "markdown",
   "metadata": {},
   "source": [
    "O item C quer saber $ P(k \\leq 1) $"
   ]
  },
  {
   "cell_type": "code",
   "execution_count": 13,
   "metadata": {},
   "outputs": [
    {
     "data": {
      "text/plain": [
       "0.04096000000000005"
      ]
     },
     "execution_count": 13,
     "metadata": {},
     "output_type": "execute_result"
    }
   ],
   "source": [
    "binom.pmf(0,6,0.6) + binom.pmf(1,6,0.6)"
   ]
  },
  {
   "cell_type": "markdown",
   "metadata": {},
   "source": [
    "A media de uma distribuição binomial é dada por N*P"
   ]
  },
  {
   "cell_type": "code",
   "execution_count": 14,
   "metadata": {},
   "outputs": [
    {
     "data": {
      "text/plain": [
       "3.5999999999999996"
      ]
     },
     "execution_count": 14,
     "metadata": {},
     "output_type": "execute_result"
    }
   ],
   "source": [
    "6*0.6"
   ]
  },
  {
   "cell_type": "markdown",
   "metadata": {},
   "source": [
    "E a variancia ($\\sigma^2$) de uma distribuição binomial é dado por N * P * Q"
   ]
  },
  {
   "cell_type": "code",
   "execution_count": 15,
   "metadata": {},
   "outputs": [
    {
     "data": {
      "text/plain": [
       "1.44"
      ]
     },
     "execution_count": 15,
     "metadata": {},
     "output_type": "execute_result"
    }
   ],
   "source": [
    "6*0.6*0.4"
   ]
  },
  {
   "cell_type": "markdown",
   "metadata": {},
   "source": [
    "# POISSON "
   ]
  },
  {
   "cell_type": "markdown",
   "metadata": {},
   "source": [
    "Livro de Estatistica\n",
    "- 400 paginas\n",
    "- 25 erros detectados\n",
    "\n",
    "Qual a probabilidade de:\n",
    "- a) Uma página conter exatamente um erro?\n",
    "- b) A soma dos erros em duas páginas ser 2?\n",
    "- c) Na primeira página não haver erro e na última sim\n",
    "- d) página haver exatamente um erro?\n",
    "- e) Calcule o numero médio de erros por página"
   ]
  },
  {
   "cell_type": "markdown",
   "metadata": {},
   "source": [
    "sendo $\\lambda$ constate e definido por:\n",
    "$ \\lambda = 400/25 = 1/16 $\n",
    "\n",
    "temos para que:\n",
    "Para P(X = 1) = "
   ]
  },
  {
   "cell_type": "code",
   "execution_count": 18,
   "metadata": {},
   "outputs": [
    {
     "data": {
      "text/plain": [
       "0.058713316425842245"
      ]
     },
     "execution_count": 18,
     "metadata": {},
     "output_type": "execute_result"
    }
   ],
   "source": [
    "from scipy.stats import poisson\n",
    "poisson.pmf(1,1/16)"
   ]
  },
  {
   "cell_type": "markdown",
   "metadata": {},
   "source": [
    "b) para x = 2"
   ]
  },
  {
   "cell_type": "code",
   "execution_count": 21,
   "metadata": {},
   "outputs": [
    {
     "data": {
      "text/plain": [
       "0.006894507051442154"
      ]
     },
     "execution_count": 21,
     "metadata": {},
     "output_type": "execute_result"
    }
   ],
   "source": [
    "poisson.pmf(2,2*(1/16))"
   ]
  },
  {
   "cell_type": "markdown",
   "metadata": {},
   "source": [
    "Para P(1ª não E 400 sim)?\n",
    "\n",
    "Como são eventos idependentes, trabalhamos com o evento intersecção e multiplicamos a Probabilidade pela outra: "
   ]
  },
  {
   "cell_type": "code",
   "execution_count": 26,
   "metadata": {},
   "outputs": [
    {
     "data": {
      "text/plain": [
       "0.05515605641153722"
      ]
     },
     "execution_count": 26,
     "metadata": {},
     "output_type": "execute_result"
    }
   ],
   "source": [
    "poisson.pmf(0,1/16))*poisson.pmf(1,(1/16))"
   ]
  },
  {
   "cell_type": "markdown",
   "metadata": {},
   "source": [
    "# Curva Normal"
   ]
  },
  {
   "cell_type": "markdown",
   "metadata": {},
   "source": [
    "Guindaste que carrega até 300kg com $\\sigma$ (desvio padrão ) de 10kg.\n",
    "Quatro caixas com peso de 70kg e devpad de 13kg\n",
    "\n",
    "Qual a prob de acionar o sistema de emergencia:\n",
    "\n",
    "\n",
    "### soma de variaveis\n",
    "\n",
    "$\\mu(W) = \\mu(Y + Y + Y + Y) $ =\n",
    "\n",
    "$4\\mu(Y) = 4x 70kj = 280kg $ =\n",
    "\n",
    "devpad de 26kg\n"
   ]
  },
  {
   "cell_type": "markdown",
   "metadata": {},
   "source": [
    "280-300 = -20\n",
    "\n",
    "27.9 a variancia"
   ]
  },
  {
   "cell_type": "code",
   "execution_count": 28,
   "metadata": {},
   "outputs": [
    {
     "data": {
      "text/plain": [
       "0.7168458781362007"
      ]
     },
     "execution_count": 28,
     "metadata": {},
     "output_type": "execute_result"
    }
   ],
   "source": [
    "mu = -20\n",
    "sigma = 27.9\n",
    "\n",
    "0 -(-20)/27.9"
   ]
  },
  {
   "cell_type": "code",
   "execution_count": null,
   "metadata": {},
   "outputs": [],
   "source": []
  }
 ],
 "metadata": {
  "colab": {
   "name": "Aula10Estatistica.ipynb",
   "provenance": []
  },
  "kernelspec": {
   "display_name": "Python 3",
   "language": "python",
   "name": "python3"
  },
  "language_info": {
   "codemirror_mode": {
    "name": "ipython",
    "version": 3
   },
   "file_extension": ".py",
   "mimetype": "text/x-python",
   "name": "python",
   "nbconvert_exporter": "python",
   "pygments_lexer": "ipython3",
   "version": "3.7.4"
  }
 },
 "nbformat": 4,
 "nbformat_minor": 1
}
