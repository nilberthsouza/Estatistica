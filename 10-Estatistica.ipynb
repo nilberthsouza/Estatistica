{
  "nbformat": 4,
  "nbformat_minor": 0,
  "metadata": {
    "colab": {
      "name": "Aula10Estatistica.ipynb",
      "provenance": []
    },
    "kernelspec": {
      "name": "python3",
      "display_name": "Python 3"
    }
  },
  "cells": [
    {
      "cell_type": "markdown",
      "metadata": {
        "id": "CPK30bEwTL6e",
        "colab_type": "text"
      },
      "source": [
        "#Aula 10 Estatistica\n",
        "\n",
        "Exercicicios sobre distribuição de probabilidade\n",
        "\n",
        "Apresentar aplicações dos conceitos de distribuição de probabilidade\n",
        "\n",
        "##Primeiro exercicios\n",
        "###Binomial\n",
        "\n",
        "60% dos consumidores preferem a marca  A\n",
        "\n",
        "40% dos consumidores preferem a marca B\n",
        "\n",
        "6 consumidores escolhidos ao acaso\n",
        "\n"
      ]
    },
    {
      "cell_type": "markdown",
      "metadata": {
        "id": "SzlfuQx1TqlV",
        "colab_type": "text"
      },
      "source": [
        "Probabilidade de exatamente 3 preferirem a marca A \n",
        "\n",
        "Probabilidade de pelos menos 3 preferirem A?\n",
        "\n",
        "Probabilidade de no maximo 1 Preferir A?\n",
        "\n",
        "Media e desvio padrão?"
      ]
    },
    {
      "cell_type": "markdown",
      "metadata": {
        "id": "DnZV121nUEGc",
        "colab_type": "text"
      },
      "source": [
        "A probabilidade de x ser igual a K onde K é o numero de sucessos vai ser dado por\n",
        "\n",
        "P(x = k) = combinatorory(n,k).(p^k).(q^n(n-k))\n",
        "\n",
        "p = 0,6\n",
        "\n",
        "q = 0,4\n",
        "\n",
        "a) k = 3\n",
        "\n",
        "b) k >= 3\n",
        "\n",
        "c) k =< 1\n",
        "\n",
        "N = 6"
      ]
    },
    {
      "cell_type": "code",
      "metadata": {
        "id": "3A3jt2cnVCdP",
        "colab_type": "code",
        "colab": {}
      },
      "source": [
        "import math \n",
        "\n",
        "def combinatory(n,p):\n",
        "  return math.factorial(n)/(math.factorial(p)*math.factorial(n-p))\n"
      ],
      "execution_count": 0,
      "outputs": []
    },
    {
      "cell_type": "code",
      "metadata": {
        "id": "TvD9LH5MTGY9",
        "colab_type": "code",
        "colab": {
          "base_uri": "https://localhost:8080/",
          "height": 34
        },
        "outputId": "3808d74b-e892-412b-ed3d-f229ff84b6c6"
      },
      "source": [
        "#Para K igual a 3\n",
        "combinatory(6,3)*(0.6**3)*(0.4**3)"
      ],
      "execution_count": 3,
      "outputs": [
        {
          "output_type": "execute_result",
          "data": {
            "text/plain": [
              "0.27648"
            ]
          },
          "metadata": {
            "tags": []
          },
          "execution_count": 3
        }
      ]
    },
    {
      "cell_type": "code",
      "metadata": {
        "id": "yjfVFSumVhP6",
        "colab_type": "code",
        "colab": {
          "base_uri": "https://localhost:8080/",
          "height": 68
        },
        "outputId": "61dca307-45dc-458f-e2b0-1681da504ccf"
      },
      "source": [
        "\n",
        "print(\"Para k igual a 4\",combinatory(6,4)*(0.6**4)*(0.4**2))\n",
        "\n",
        "\n",
        "print(\"para  k igual a 5:\",combinatory(6,5)*(0.6**5)*(0.4**1))\n",
        "\n",
        "\n",
        "print(\"Para k igual a 6\",0.6**6)"
      ],
      "execution_count": 6,
      "outputs": [
        {
          "output_type": "stream",
          "text": [
            "Para k igual a 4 0.31104000000000004\n",
            "para  k igual a 5: 0.18662399999999996\n",
            "Para k igual a 6 0.04665599999999999\n"
          ],
          "name": "stdout"
        }
      ]
    }
<<<<<<< HEAD:10-Estatistica.ipynb
   ],
   "source": [
    "\n",
    "print(\"Para k igual a 4\",combinatory(6,4)*(0.6**4)*(0.4**2))\n",
    "\n",
    "\n",
    "print(\"para  k igual a 5:\",combinatory(6,5)*(0.6**5)*(0.4**1))\n",
    "\n",
    "\n",
    "print(\"Para k igual a 6\",0.6**6)"
   ]
  },
  {
   "cell_type": "code",
   "execution_count": null,
   "metadata": {},
   "outputs": [],
   "source": []
  }
 ],
 "metadata": {
  "colab": {
   "name": "Aula10Estatistica.ipynb",
   "provenance": []
  },
  "kernelspec": {
   "display_name": "Python 3",
   "language": "python",
   "name": "python3"
  },
  "language_info": {
   "codemirror_mode": {
    "name": "ipython",
    "version": 3
   },
   "file_extension": ".py",
   "mimetype": "text/x-python",
   "name": "python",
   "nbconvert_exporter": "python",
   "pygments_lexer": "ipython3",
   "version": "3.7.4"
  }
 },
 "nbformat": 4,
 "nbformat_minor": 1
=======
  ]
}
=======
  ]
}
>>>>>>> parent of 071c0b9... news:Aula10Estatistica.ipynb
