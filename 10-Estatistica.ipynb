{
 "cells": [
  {
   "cell_type": "markdown",
   "metadata": {
    "colab_type": "text",
    "id": "CPK30bEwTL6e"
   },
   "source": [
    "# Aula 10 Estatistica\n",
    "\n",
    "Exercicicios sobre distribuição de probabilidade\n",
    "\n",
    "Apresentar aplicações dos conceitos de distribuição de probabilidade\n",
    "\n",
    "## Primeiro exercicios\n",
    "### Binomial\n",
    "\n",
    "60% dos consumidores preferem a marca  A\n",
    "\n",
    "40% dos consumidores preferem a marca B\n",
    "\n",
    "6 consumidores escolhidos ao acaso\n",
    "\n"
   ]
  },
  {
   "cell_type": "markdown",
   "metadata": {
    "colab_type": "text",
    "id": "SzlfuQx1TqlV"
   },
   "source": [
    "Probabilidade de exatamente 3 preferirem a marca A \n",
    "\n",
    "Probabilidade de pelos menos 3 preferirem A?\n",
    "\n",
    "Probabilidade de no maximo 1 Preferir A?\n",
    "\n",
    "Media e desvio padrão?"
   ]
  },
  {
   "cell_type": "markdown",
   "metadata": {
    "colab_type": "text",
    "id": "DnZV121nUEGc"
   },
   "source": [
    "A probabilidade de x ser igual a K onde K é o numero de sucessos vai ser dado por\n",
    "\n",
    "P(x = k) = combinatorory(n,k).(p^k).(q^n(n-k))\n",
    "\n",
    "p = 0,6\n",
    "\n",
    "q = 0,4\n",
    "\n",
    "a) k = 3\n",
    "\n",
    "b) k >= 3\n",
    "\n",
    "c) k =< 1\n",
    "\n",
    "N = 6"
   ]
  },
  {
   "cell_type": "code",
   "execution_count": 2,
   "metadata": {
    "colab": {},
    "colab_type": "code",
    "id": "3A3jt2cnVCdP"
   },
   "outputs": [],
   "source": [
    "import math \n",
    "\n",
    "def combinatory(n,p):\n",
    "  return math.factorial(n)/(math.factorial(p)*math.factorial(n-p))\n"
   ]
  },
  {
   "cell_type": "code",
   "execution_count": 10,
   "metadata": {
    "colab": {
     "base_uri": "https://localhost:8080/",
     "height": 34
    },
    "colab_type": "code",
    "id": "TvD9LH5MTGY9",
    "outputId": "3808d74b-e892-412b-ed3d-f229ff84b6c6"
   },
   "outputs": [
    {
     "name": "stdout",
     "output_type": "stream",
     "text": [
      "0.27648\n",
      "0.2764800000000001\n",
      "0.31104\n",
      "0.18662400000000007\n",
      "0.04665599999999999\n"
     ]
    }
   ],
   "source": [
    "#Para K igual a 3\n",
    "print(combinatory(6,3)*(0.6**3)*(0.4**3))\n",
    "\n",
    "from scipy.stats import binom\n",
    "print(binom.pmf(3, 6, 0.6))\n",
    "\n",
    "from scipy.stats import binom\n",
    "print(binom.pmf(4, 6, 0.6))\n",
    "\n",
    "from scipy.stats import binom\n",
    "print(binom.pmf(5, 6, 0.6))\n",
    "\n",
    "from scipy.stats import binom\n",
    "print(binom.pmf(6, 6, 0.6))\n"
   ]
  },
  {
   "cell_type": "code",
   "execution_count": 21,
   "metadata": {},
   "outputs": [
    {
     "name": "stdout",
     "output_type": "stream",
     "text": [
      "{'Clientes': [1, 2, 3, 4, 5, 6], 'Prob': [0.004096000000000002, 0.03686400000000005, 0.13824000000000003, 0.2764800000000001, 0.31104, 0.18662400000000007]}\n"
     ]
    },
    {
     "data": {
      "text/plain": [
       "<BarContainer object of 6 artists>"
      ]
     },
     "execution_count": 21,
     "metadata": {},
     "output_type": "execute_result"
    },
    {
     "data": {
      "image/png": "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\n",
      "text/plain": [
       "<Figure size 432x288 with 1 Axes>"
      ]
     },
     "metadata": {
      "needs_background": "light"
     },
     "output_type": "display_data"
    }
   ],
   "source": [
    "a = [binom.pmf(i,6,0.6) for i in range(6)]\n",
    "\n",
    "import matplotlib.pyplot as plt\n",
    "import pandas as pd\n",
    "b = [1,2,3,4,5,6]\n",
    "dist = {'Clientes':b,'Prob':a}\n",
    "print(dist)\n",
    "dfdist = pd.DataFrame(dist)\n",
    "\n",
    "plt.bar(dfdist.Clientes, dfdist.Prob)"
   ]
  },
  {
   "cell_type": "code",
   "execution_count": 8,
   "metadata": {
    "colab": {
     "base_uri": "https://localhost:8080/",
     "height": 68
    },
    "colab_type": "code",
    "id": "yjfVFSumVhP6",
    "outputId": "61dca307-45dc-458f-e2b0-1681da504ccf"
   },
   "outputs": [
    {
     "name": "stdout",
     "output_type": "stream",
     "text": [
      "Para k igual a 4 0.31104000000000004\n",
      "para  k igual a 5: 0.18662399999999996\n",
      "Para k igual a 6 0.04665599999999999\n"
     ]
    }
   ],
   "source": [
    "\n",
    "print(\"Para k igual a 4\",combinatory(6,4)*(0.6**4)*(0.4**2))\n",
    "\n",
    "\n",
    "print(\"para  k igual a 5:\",combinatory(6,5)*(0.6**5)*(0.4**1))\n",
    "\n",
    "\n",
    "print(\"Para k igual a 6\",0.6**6)"
   ]
  },
  {
   "cell_type": "code",
   "execution_count": null,
   "metadata": {},
   "outputs": [],
   "source": []
  }
 ],
 "metadata": {
  "colab": {
   "name": "Aula10Estatistica.ipynb",
   "provenance": []
  },
  "kernelspec": {
   "display_name": "Python 3",
   "language": "python",
   "name": "python3"
  },
  "language_info": {
   "codemirror_mode": {
    "name": "ipython",
    "version": 3
   },
   "file_extension": ".py",
   "mimetype": "text/x-python",
   "name": "python",
   "nbconvert_exporter": "python",
   "pygments_lexer": "ipython3",
   "version": "3.7.4"
  }
 },
 "nbformat": 4,
 "nbformat_minor": 1
=======
  ]
}
