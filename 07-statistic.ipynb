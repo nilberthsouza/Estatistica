{
  "nbformat": 4,
  "nbformat_minor": 0,
  "metadata": {
    "colab": {
      "name": "Aula7Estatistica.ipynb",
      "provenance": [],
      "collapsed_sections": []
    },
    "kernelspec": {
      "name": "python3",
      "display_name": "Python 3"
    }
  },
  "cells": [
    {
      "cell_type": "markdown",
      "metadata": {
        "id": "a_nEVs9qT_0t",
        "colab_type": "text"
      },
      "source": [
        "\n",
        "#Variavel Aleatoria\n",
        "\n",
        "##Exercicio\n",
        "\n",
        "Central de atendimento com 6 atendentes\n",
        "\n",
        "Probabiliade de estar atendendo:\n",
        "0,6\n",
        "\n",
        "Qual a função descreve a probabilidade de estarem em atendimento?\n",
        "\n",
        "Numero de atendentes ocupados \n",
        "\n",
        "x = 0,1,2,3,4,5,6\n",
        "\n",
        "\n",
        "\n"
      ]
    },
    {
      "cell_type": "code",
      "metadata": {
        "id": "yrraFo0GZxy3",
        "colab_type": "code",
        "colab": {}
      },
      "source": [
        "from matplotlib import pyplot as plt"
      ],
      "execution_count": 0,
      "outputs": []
    },
    {
      "cell_type": "code",
      "metadata": {
        "id": "k8lY-yGZUd8K",
        "colab_type": "code",
        "colab": {}
      },
      "source": [
        "#como será necessario fazer a analise combinatoria no exemplo, vamos criar a função factorial e a função combinatory \n",
        "\n",
        "def factorial(a):\n",
        "  elements = []\n",
        "  for i in range(a-1):\n",
        "    elements.append(a-i)\n",
        "  results = 1\n",
        "  for j in elements:\n",
        "    results = results * j\n",
        "  return results\n",
        "\n",
        "def combinatory(n,p):\n",
        "  return factorial(n)/(factorial(p)*factorial(n-p))\n"
      ],
      "execution_count": 0,
      "outputs": []
    },
    {
      "cell_type": "code",
      "metadata": {
        "id": "flzMuJ2OUsdq",
        "colab_type": "code",
        "colab": {
          "base_uri": "https://localhost:8080/",
          "height": 51
        },
        "outputId": "963d240c-09e1-4fe2-9e33-4d71415e81de"
      },
      "source": [
        "values_list = []\n",
        "#Probabilidade e 0 atendentes estarem atendendo, sendo 6 o numero total de atendentes e 40% a chance de não estarem atendendo\n",
        "prob_Zero = 0.4**6\n",
        "values_list.append(prob_Zero)\n",
        "#A chance de apenas um atendente estar atendendo(0,6^1), equanto todo o resto nao está atendendo (0,4^5)sendo o 6 o numero total de funcionario\n",
        "prob_One = 0.6*6*(0.4**5)\n",
        "values_list.append(prob_One)\n",
        "    \n",
        "prob_Two = combinatory(6,2)*(0.6**2)*(0.4**4)\n",
        "values_list.append(prob_Two)\n",
        "    \n",
        "prob_Three = combinatory(6,3)*(0.6**3)*(0.4**3)\n",
        "values_list.append(prob_Three)\n",
        "    \n",
        "prob_Four = combinatory(6,4)*(0.6**4)*(0.4**2)\n",
        "values_list.append(prob_Four)\n",
        "    \n",
        "prob_Five = combinatory(6,5)*(0.6**5)*0.4\n",
        "values_list.append(prob_Five)\n",
        "    \n",
        "prob_Six = 0.6**6\n",
        "values_list.append(prob_Six)\n",
        "\n",
        "print(values_list)\n",
        "label = []\n",
        "for i in range(len(values_list)):\n",
        "  label.append(i)\n",
        "\n",
        "print(label)"
      ],
      "execution_count": 9,
      "outputs": [
        {
          "output_type": "stream",
          "text": [
            "[0.0040960000000000015, 0.03686400000000001, 0.13824, 0.27648, 0.31104000000000004, 0.18662399999999996, 0.04665599999999999]\n",
            "[0, 1, 2, 3, 4, 5, 6]\n"
          ],
          "name": "stdout"
        }
      ]
    },
    {
      "cell_type": "code",
      "metadata": {
        "id": "csHvQvJKWCIk",
        "colab_type": "code",
        "colab": {
          "base_uri": "https://localhost:8080/",
          "height": 282
        },
        "outputId": "02348d1b-1737-4b5b-eb44-5f689204f385"
      },
      "source": [
        "plt.plot(label,values_list,color='green',marker='o',linestyle='solid')\n",
        "plt.title('Função Probabilidade')"
      ],
      "execution_count": 14,
      "outputs": [
        {
          "output_type": "execute_result",
          "data": {
            "text/plain": [
              "[<matplotlib.lines.Line2D at 0x7f26ec7534e0>]"
            ]
          },
          "metadata": {
            "tags": []
          },
          "execution_count": 14
        },
        {
          "output_type": "display_data",
          "data": {
            "image/png": "[encoded data removed]",
            "text/plain": [
              "<Figure size 432x288 with 1 Axes>"
            ]
          },
          "metadata": {
            "tags": []
          }
        }
      ]
    },
    {
      "cell_type": "code",
      "metadata": {
        "id": "iaITmF_hbmtN",
        "colab_type": "code",
        "colab": {}
      },
      "source": [
        "\n",
        "def fnprobability(sucessnumber,unknowprob,sucessprobability,failureprobability):\n",
        "  return combinatory(sucessnumber,unknowprob)*(sucessprobability**unknowprob)*(failureprobability**(sucessnumber-unknowprob))\n",
        "\n"
      ],
      "execution_count": 0,
      "outputs": []
    },
    {
      "cell_type": "markdown",
      "metadata": {
        "id": "Q9GNgb7-deAD",
        "colab_type": "text"
      },
      "source": [
        "replicando o codigo acima, podemos aplicar para cada cenario do exercicio anterior.\n"
      ]
    },
    {
      "cell_type": "code",
      "metadata": {
        "id": "sPX-7y4_dql1",
        "colab_type": "code",
        "colab": {
          "base_uri": "https://localhost:8080/",
          "height": 136
        },
        "outputId": "cff23f2a-37dc-4e1e-ed60-3dc49d679cc5"
      },
      "source": [
        "print(\"Probabilidade de 0 pessoas estarem atendendo:\",fnprobability(6,0,0.6,0.4))\n",
        "\n",
        "print(\"Probabilidade de 1 pessoas estarem atendendo:\",fnprobability(6,1,0.6,0.4))\n",
        "\n",
        "print(\"Probabilidade de 2 pessoas estarem atendendo:\",fnprobability(6,2,0.6,0.4))\n",
        "\n",
        "print(\"Probabilidade de 3 pessoas estarem atendendo:\",fnprobability(6,3,0.6,0.4))\n",
        "\n",
        "print(\"Probabilidade de 4 pessoas estarem atendendo:\",fnprobability(6,4,0.6,0.4))\n",
        "\n",
        "print(\"Probabilidade de 5 pessoas estarem atendendo:\",fnprobability(6,5,0.6,0.4))\n",
        "\n",
        "print(\"Probabilidade de 6 pessoas estarem atendendo:\",fnprobability(6,6,0.6,0.4))\n"
      ],
      "execution_count": 30,
      "outputs": [
        {
          "output_type": "stream",
          "text": [
            "Probabilidade de 0 pessoas estarem atendendo: 0.0040960000000000015\n",
            "Probabilidade de 1 pessoas estarem atendendo: 0.03686400000000001\n",
            "Probabilidade de 2 pessoas estarem atendendo: 0.13824\n",
            "Probabilidade de 3 pessoas estarem atendendo: 0.27648\n",
            "Probabilidade de 4 pessoas estarem atendendo: 0.31104000000000004\n",
            "Probabilidade de 5 pessoas estarem atendendo: 0.18662399999999996\n",
            "Probabilidade de 6 pessoas estarem atendendo: 0.04665599999999999\n"
          ],
          "name": "stdout"
        }
      ]
    }
  ]
}
