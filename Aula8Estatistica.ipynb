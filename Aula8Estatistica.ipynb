{
  "nbformat": 4,
  "nbformat_minor": 0,
  "metadata": {
    "colab": {
      "name": "Aula8Estatistica.ipynb",
      "provenance": []
    },
    "kernelspec": {
      "name": "python3",
      "display_name": "Python 3"
    }
  },
  "cells": [
    {
      "cell_type": "markdown",
      "metadata": {
        "id": "0aNqI92LhcCG",
        "colab_type": "text"
      },
      "source": [
        "#Aula 08 - Exercícios sobre variáveis aleatórias\n",
        "\n",
        "teremos uma urna e nessa urna colocaremos bolas brancas e bolas pretas. \n",
        "Sendo 4 bolas brancas e 2 bolas pretas\n",
        "\n",
        "estaremos interessados em saber qual a distribuição de probabilidade \"V.A(x): obter 2 bolas pretas\""
      ]
    },
    {
      "cell_type": "code",
      "metadata": {
        "id": "7m4N1afihXFI",
        "colab_type": "code",
        "colab": {}
      },
      "source": [
        "def factorial(a):\n",
        "  elements = []\n",
        "  for i in range(a-1):\n",
        "    elements.append(a-i)\n",
        "  results = 1\n",
        "  for j in elements:\n",
        "    results = results * j\n",
        "  return results\n",
        "\n",
        "def combinatory(n,p):\n",
        "  return factorial(n)/(factorial(p)*factorial(n-p))\n"
      ],
      "execution_count": 0,
      "outputs": []
    },
    {
      "cell_type": "markdown",
      "metadata": {
        "id": "_p7AkZSHi5OO",
        "colab_type": "text"
      },
      "source": [
        "Para encontrar o espraço amostral nos precisamos calcular a combinação das 6 bolas em 2 . "
      ]
    },
    {
      "cell_type": "code",
      "metadata": {
        "id": "_nngTf8miyQv",
        "colab_type": "code",
        "colab": {
          "base_uri": "https://localhost:8080/",
          "height": 34
        },
        "outputId": "752f0d8d-4fe7-444a-8f76-ffa463ad5755"
      },
      "source": [
        "print(\"espaço amostral S={\",combinatory(6,2),\"}\")"
      ],
      "execution_count": 3,
      "outputs": [
        {
          "output_type": "stream",
          "text": [
            "espaço amostral S={ 15.0 }\n"
          ],
          "name": "stdout"
        }
      ]
    },
    {
      "cell_type": "code",
      "metadata": {
        "id": "vYtXwpKijeQu",
        "colab_type": "code",
        "colab": {
          "base_uri": "https://localhost:8080/",
          "height": 102
        },
        "outputId": "a4e8c919-2b87-432c-dba9-f09755c92494"
      },
      "source": [
        "#A se temos 6 bolas , seno 2 pretas. Na primeira retirada temos a probabilidade e 2/6 de retirar uma bola branca\n",
        "#na segunda temos a probabilidade de retirar 1/5\n",
        "# P P  \n",
        "print(\"probabilidade de sair p(x=2):\",(2/6)*(1/5))\n",
        "\n",
        "#na primeira tentativa temos 2/6, na segunda há 4/5 de tirar uma branca e na terceira tirar uma preta temos 1/4. Como\n",
        "#isso pode acontecer de 2 maneiras diferentes \n",
        "#P B P\n",
        "#B P P \n",
        "print(\"probabilidade de sair p(x=3)\",((2/6)*(4/5)*(1/4))*2)\n",
        "\n",
        "#P B B P\n",
        "#B P B P\n",
        "#B B P P\n",
        "print(\"probabilidade de sair p(x=4)\",((2/6)*(4/5)*(3/4)*(1/3))*3)\n",
        "\n",
        "#P B B B P\n",
        "#B P B B P\n",
        "#B B P B P\n",
        "#B B B P P\n",
        "print(\"probabiliae de sair p(x=5)\",((2/6)*(4/5)*(3/2)*(1/2))*4)\n",
        "\n",
        "#P B B B B P\n",
        "#B P B B B P\n",
        "#B B P B B P\n",
        "#B B B P B P\n",
        "#B B B B P P\n",
        "print(\"probabiliae de sair p(x=6)\",((2/6)*(4/5)*(3/2)*(1/2)*(1/1))*5)"
      ],
      "execution_count": 12,
      "outputs": [
        {
          "output_type": "stream",
          "text": [
            "probabilidade de sair p(x=2): 0.06666666666666667\n",
            "probabilidade de sair p(x=3) 0.13333333333333333\n",
            "probabilidade de sair p(x=4) 0.2\n",
            "probabiliae de sair p(x=5) 0.8\n",
            "probabiliae de sair p(x=6) 1.0\n"
          ],
          "name": "stdout"
        }
      ]
    },
    {
      "cell_type": "code",
      "metadata": {
        "id": "ikknV1nUlicJ",
        "colab_type": "code",
        "colab": {}
      },
      "source": [
        "def fnprobability(x):\n",
        "  if x > 1:\n",
        "    return (x - 1)/15"
      ],
      "execution_count": 0,
      "outputs": []
    },
    {
      "cell_type": "code",
      "metadata": {
        "id": "Gefn4HjFpB9w",
        "colab_type": "code",
        "colab": {}
      },
      "source": [
        "fnprobability(5)"
      ],
      "execution_count": 0,
      "outputs": []
    }
  ]
}