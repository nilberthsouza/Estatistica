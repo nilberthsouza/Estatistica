{
  "nbformat": 4,
  "nbformat_minor": 0,
  "metadata": {
    "colab": {
      "name": "Aula9Estatistica.ipynb",
      "provenance": []
    },
    "kernelspec": {
      "name": "python3",
      "display_name": "Python 3"
    }
  },
  "cells": [
    {
      "cell_type": "code",
      "metadata": {
        "id": "rBeKR26EptI_",
        "colab_type": "code",
        "colab": {}
      },
      "source": [
        ""
      ],
      "execution_count": 0,
      "outputs": []
    },
    {
      "cell_type": "markdown",
      "metadata": {
        "id": "sgfI-uc5stRg",
        "colab_type": "text"
      },
      "source": [
        "#Aula 09 - Distribuições de probabilidade\n",
        "\n"
      ]
    },
    {
      "cell_type": "markdown",
      "metadata": {
        "id": "ylO51t3YsvJI",
        "colab_type": "text"
      },
      "source": [
        "##Distribuição de Bernouli\n",
        "\n",
        "1.   Esperimento aleatório\n",
        "2.   Realizado Repetidas Vezes\n",
        "3.   Mantidas as mesmas condições \n",
        "4.   resultado: sucesso(s) ou Fracasso\n"
      ]
    },
    {
      "cell_type": "code",
      "metadata": {
        "id": "zbUzrFiBtX9t",
        "colab_type": "code",
        "colab": {}
      },
      "source": [
        "#P(sucesso) = p\n",
        "#P(fracasso) = q = 1-p\n",
        "#P = (p^k)(q^(1-k))  K ∈ {0,1}"
      ],
      "execution_count": 0,
      "outputs": []
    },
    {
      "cell_type": "markdown",
      "metadata": {
        "id": "4ygp93nKuJ65",
        "colab_type": "text"
      },
      "source": [
        "##Distribuição Binomial\n",
        "\n",
        "N provas independentes\n",
        "Sucesso ou fracasso(bernoulli)\n",
        "P(sucesso) = P =>(constante)\n",
        "\n",
        "P = p.p.p ... q.q.q.q\n",
        "\n",
        "(p^k)(q^(n-k)\n",
        "\n",
        "Nesta ordem"
      ]
    },
    {
      "cell_type": "markdown",
      "metadata": {
        "id": "pOgwKsSXuvaj",
        "colab_type": "text"
      },
      "source": [
        "Ordem diferentes\n",
        "```\n",
        "P(X = k) = combinatory(n,k)*(p**k)*(q**(n-k))\n",
        "```\n",
        "\n",
        "esperança/media\n",
        "μ = np \n",
        "\n",
        "Variancia:\n",
        "```\n",
        "σ²(x) = npq\n",
        "```\n",
        "n = numeros de vezes que se realiza o esperimento"
      ]
    },
    {
      "cell_type": "code",
      "metadata": {
        "id": "M0FDsijUwr2K",
        "colab_type": "code",
        "colab": {}
      },
      "source": [
        "def factorial(a):\n",
        "  elements = []\n",
        "  for i in range(a-1):\n",
        "    elements.append(a-i)\n",
        "  results = 1\n",
        "  for j in elements:\n",
        "    results = results * j\n",
        "  return results\n",
        "\n",
        "def combinatory(n,p):\n",
        "  return factorial(n)/(factorial(p)*factorial(n-p))"
      ],
      "execution_count": 0,
      "outputs": []
    },
    {
      "cell_type": "code",
      "metadata": {
        "id": "hJT59dxWw7s5",
        "colab_type": "code",
        "colab": {}
      },
      "source": [
        "def fnprobability(sucessnumber,unknowprob,sucessprobability,failureprobability):\n",
        "  return combinatory(sucessnumber,unknowprob)*(sucessprobability**unknowprob)*(failureprobability**(sucessnumber-unknowprob))"
      ],
      "execution_count": 0,
      "outputs": []
    },
    {
      "cell_type": "markdown",
      "metadata": {
        "id": "wCTWFU1fwAyG",
        "colab_type": "text"
      },
      "source": [
        "Exemplo: torno mecânico\n",
        "\n",
        "25% defeitos\n",
        "Amostra N = 16\n",
        "\n",
        "X = é a variavel aleatio  e vamos denotar sendo x o numero de Peças defeituosas\n",
        "\n",
        "P(x=4)=?\n",
        " "
      ]
    },
    {
      "cell_type": "code",
      "metadata": {
        "id": "VTDDsOIOw8zM",
        "colab_type": "code",
        "colab": {
          "base_uri": "https://localhost:8080/",
          "height": 34
        },
        "outputId": "ec7b2551-36d9-45d0-e5b9-61677eabe10e"
      },
      "source": [
        "fnprobability(16,4,0.25,0.75)"
      ],
      "execution_count": 3,
      "outputs": [
        {
          "output_type": "execute_result",
          "data": {
            "text/plain": [
              "0.22519906517118216"
            ]
          },
          "metadata": {
            "tags": []
          },
          "execution_count": 3
        }
      ]
    },
    {
      "cell_type": "markdown",
      "metadata": {
        "id": "Pl42QmpxyBhG",
        "colab_type": "text"
      },
      "source": [
        "Entre 16 peças produzidas a probabilidade de 4 estarem com defeitos é de 0.2251\n"
      ]
    },
    {
      "cell_type": "code",
      "metadata": {
        "id": "DS06IIx8xWbQ",
        "colab_type": "code",
        "colab": {}
      },
      "source": [
        "def average(sample,prob):\n",
        "  return sample*prob\n",
        "def variance(sample,sucessprob,failureprob):\n",
        "  return sample*sucessprob*failureprob\n"
      ],
      "execution_count": 0,
      "outputs": []
    },
    {
      "cell_type": "code",
      "metadata": {
        "id": "gHmoNVHhyIV8",
        "colab_type": "code",
        "colab": {
          "base_uri": "https://localhost:8080/",
          "height": 51
        },
        "outputId": "d7fae41d-e635-4991-87c0-bc92d7e93bbe"
      },
      "source": [
        "print(\"esperança/media:\",average(16,0.25))\n",
        "print(\"Variancia\",variance(16,0.25,0.75))"
      ],
      "execution_count": 5,
      "outputs": [
        {
          "output_type": "stream",
          "text": [
            "esperança/media: 4.0\n",
            "Variancia 3.0\n"
          ],
          "name": "stdout"
        }
      ]
    },
    {
      "cell_type": "markdown",
      "metadata": {
        "id": "l2Ae29x_ypnD",
        "colab_type": "text"
      },
      "source": [
        "###Lancamento de 8 moedas\n",
        "A-queremos saber qual a prob de sair exatamente 5 caras\n"
      ]
    },
    {
      "cell_type": "code",
      "metadata": {
        "id": "UP57uG1zyw0G",
        "colab_type": "code",
        "colab": {
          "base_uri": "https://localhost:8080/",
          "height": 34
        },
        "outputId": "0b528f66-839e-477a-ae5a-daa2636adc00"
      },
      "source": [
        "fnprobability(8,5,0.5,0.5)"
      ],
      "execution_count": 6,
      "outputs": [
        {
          "output_type": "execute_result",
          "data": {
            "text/plain": [
              "0.21875"
            ]
          },
          "metadata": {
            "tags": []
          },
          "execution_count": 6
        }
      ]
    },
    {
      "cell_type": "markdown",
      "metadata": {
        "id": "7RbvCxXrzFMX",
        "colab_type": "text"
      },
      "source": [
        "B- Pelo menos 1 cara"
      ]
    },
    {
      "cell_type": "code",
      "metadata": {
        "id": "oPjS3PUYzIQt",
        "colab_type": "code",
        "colab": {
          "base_uri": "https://localhost:8080/",
          "height": 34
        },
        "outputId": "1a03d553-d639-4dda-fc83-c674c1d6f617"
      },
      "source": [
        "#calcularemos a probabilidade de sair ao menos uma cara, calculando a probabilidade não sair nenhuma cara e subtraindo de um. Espaço complementar\n",
        "1-fnprobability(8,0,0.5,0.5)"
      ],
      "execution_count": 12,
      "outputs": [
        {
          "output_type": "execute_result",
          "data": {
            "text/plain": [
              "0.99609375"
            ]
          },
          "metadata": {
            "tags": []
          },
          "execution_count": 12
        }
      ]
    },
    {
      "cell_type": "markdown",
      "metadata": {
        "id": "B2Sm_Jdf4rdZ",
        "colab_type": "text"
      },
      "source": [
        "POisson"
      ]
    },
    {
      "cell_type": "code",
      "metadata": {
        "id": "_u6XrdDW4tqm",
        "colab_type": "code",
        "colab": {}
      },
      "source": [
        "def fnPosson():\n",
        "  e**(l)"
      ],
      "execution_count": 0,
      "outputs": []
    }
  ]
}