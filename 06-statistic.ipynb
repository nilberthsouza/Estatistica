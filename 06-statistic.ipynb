{
  "nbformat": 4,
  "nbformat_minor": 0,
  "metadata": {
    "colab": {
      "name": "aula 6-Estatistica.ipynb",
      "provenance": []
    },
    "kernelspec": {
      "name": "python3",
      "display_name": "Python 3"
    }
  },
  "cells": [
    {
      "cell_type": "markdown",
      "metadata": {
        "id": "3vK-XKNlxnNO",
        "colab_type": "text"
      },
      "source": [
        "#Aula 06- Exercicios sobre probabildiade\n",
        "\n",
        "### Primerio Exercicio Comentados \n",
        "Numa determinada linha de produção sabe-se que 10% dos itens produzidos apresentam defeitos\n",
        "\n",
        "Um teste para verificar a ocorrência de defeitos será aplicado nesta linha de produção\n",
        "\n",
        "Este teste para detectar ou não a presença de defeitos garante 90% de acertos quando aplicado a itens efetivamente com defeitos e 80% de acertos quando aplicado a itens que não tem defeitos\n",
        "\n"
      ]
    },
    {
      "cell_type": "markdown",
      "metadata": {
        "id": "MGs_WIe21exY",
        "colab_type": "text"
      },
      "source": [
        "1- Qual o percentual de itens realmente com defeitos dentre aqueles que o teste classificou como positivo(defeituoso)?"
      ]
    },
    {
      "cell_type": "code",
      "metadata": {
        "id": "Qvi0e_I02g92",
        "colab_type": "code",
        "colab": {
          "base_uri": "https://localhost:8080/",
          "height": 105
        },
        "outputId": "d516754f-3701-4e13-99d7-840a435ec561"
      },
      "source": [
        "sem_defeito = 0.9\n",
        "com_defeito = 0.1\n",
        "sem_defeito_positivo = 0.2\n",
        "sem_defeito_negativo = 0.8\n",
        "com_defeito_positivo = 0.9\n",
        "com_defeito_negativo = 0.1\n",
        "\n",
        "print(\"o item sem defeito que será classificado erroneamente com defeito. Acontecerá em: \",sem_defeito*sem_defeito_positivo)\n",
        "print(\"o item sem defeito que será classificado corretamente sem defeito apos o teste.Acontecerá em: \",sem_defeito*sem_defeito_negativo)\n",
        "print(\"o item com defeito que sera classificado corretamente apos o teste. Acontecerá em:\",com_defeito*com_defeito_positivo)\n",
        "print(\"O item com defeito que será classificado erroneamento como sem defeito.Acontecerá em:\",com_defeito*com_defeito_negativo)\n",
        "\n"
      ],
      "execution_count": 6,
      "outputs": [
        {
          "output_type": "stream",
          "text": [
            "o item sem defeito que será classificado erroneamente com defeito. Acontecerá em:  0.18000000000000002\n",
            "o item sem defeito que será classificado corretamente sem defeito apos o teste.Acontecerá em:  0.7200000000000001\n",
            "o item com defeito que sera classificado corretamente apos o teste. Acontecerá em: 0.09000000000000001\n",
            "O item com defeito que será classificado erroneamento como sem defeito.Acontecerá em: 0.010000000000000002\n"
          ],
          "name": "stdout"
        }
      ]
    },
    {
      "cell_type": "markdown",
      "metadata": {
        "id": "x5sBpCdZ2iu4",
        "colab_type": "text"
      },
      "source": [
        "Ppositivo = 0.18+0.09 = 0,27\n",
        "P(reamente defeituoso = 0,09\n",
        "P = reamente defeituoso/positivo)=0,09/0,27 = 33%"
      ]
    },
    {
      "cell_type": "markdown",
      "metadata": {
        "id": "7vHnF8Gh5tnX",
        "colab_type": "text"
      },
      "source": [
        "Qual o percenturla de itens não defeituosos dentre aqueles que o teste classficou como negativo(não defeituoso)?"
      ]
    },
    {
      "cell_type": "code",
      "metadata": {
        "id": "UMVu4HTd512Y",
        "colab_type": "code",
        "colab": {
          "base_uri": "https://localhost:8080/",
          "height": 34
        },
        "outputId": "0dd3c779-d77c-4e48-c2c0-793eccab3f53"
      },
      "source": [
        "Pnegativo = sem_defeito*sem_defeito_negativo + com_defeito*com_defeito_negativo\n",
        "print(Pnegativo)"
      ],
      "execution_count": 9,
      "outputs": [
        {
          "output_type": "stream",
          "text": [
            "0.7300000000000001\n"
          ],
          "name": "stdout"
        }
      ]
    },
    {
      "cell_type": "code",
      "metadata": {
        "id": "Fw012w1w6DrQ",
        "colab_type": "code",
        "colab": {
          "base_uri": "https://localhost:8080/",
          "height": 34
        },
        "outputId": "06a6f27c-4975-4b61-ba5e-b6b5945deffc"
      },
      "source": [
        "#probabilidade de ser negativo e não ser defeituoso é 0,72\n",
        "#probabilidade de não ter defeito dado que deu negativo\n",
        "0.72/0.73"
      ],
      "execution_count": 11,
      "outputs": [
        {
          "output_type": "execute_result",
          "data": {
            "text/plain": [
              "0.9863013698630136"
            ]
          },
          "metadata": {
            "tags": []
          },
          "execution_count": 11
        }
      ]
    },
    {
      "cell_type": "markdown",
      "metadata": {
        "id": "OaqCKnD06mGm",
        "colab_type": "text"
      },
      "source": [
        "98,6% itens que não tem defeito e efetivamente vão pro mercado sem necessidade de assistencia ou reparo posterior."
      ]
    },
    {
      "cell_type": "markdown",
      "metadata": {
        "id": "2V8GXcfU60G7",
        "colab_type": "text"
      },
      "source": [
        "###Segundo exercicio Comentado\n",
        "\n",
        "funcionamento de um sistema de resistores\n",
        "```\n",
        "     x 0,7          V 0,85\n",
        "A    y 0,7    K0,9            B\n",
        "     z 0,7          W 0,85\n",
        "```\n"
      ]
    },
    {
      "cell_type": "markdown",
      "metadata": {
        "id": "7ZXENre17RLX",
        "colab_type": "text"
      },
      "source": [
        "Considerando a probabilidade de cada resistor estar funcionando, qual a chance do sistema funcionar(passar corrente entre A e B)?"
      ]
    },
    {
      "cell_type": "code",
      "metadata": {
        "id": "4ppp6LdP64ge",
        "colab_type": "code",
        "colab": {
          "base_uri": "https://localhost:8080/",
          "height": 34
        },
        "outputId": "c9057003-770e-4538-a6bd-9ff2caefb1a8"
      },
      "source": [
        "#resolução:\n",
        "print(\"P(V ou W) = P(VUW)\",0.85+0.85-(0.85*0.85))"
      ],
      "execution_count": 13,
      "outputs": [
        {
          "output_type": "stream",
          "text": [
            "P(V ou W) = P(VUW) 0.9775\n"
          ],
          "name": "stdout"
        }
      ]
    },
    {
      "cell_type": "code",
      "metadata": {
        "id": "nukekZ9v8RTW",
        "colab_type": "code",
        "colab": {
          "base_uri": "https://localhost:8080/",
          "height": 34
        },
        "outputId": "5a39fac1-f669-45e5-9838-c4bd05b61ba4"
      },
      "source": [
        "print(\"P(XYZ)=P(X Ou Y OU Z)=P(XUYUZ):\",0.7+0.7+0.7-(0.7*0.7)-(0.7*0.7)-(0.7*0.7)+(0.7*0.7*0.7))"
      ],
      "execution_count": 14,
      "outputs": [
        {
          "output_type": "stream",
          "text": [
            "P(XYZ)=P(X Ou Y OU Z)=P(XUYUZ): 0.9729999999999996\n"
          ],
          "name": "stdout"
        }
      ]
    },
    {
      "cell_type": "code",
      "metadata": {
        "id": "aOC4nFWy9Cii",
        "colab_type": "code",
        "colab": {
          "base_uri": "https://localhost:8080/",
          "height": 34
        },
        "outputId": "ffa813e2-6c6e-47ad-b86b-f3a9f5e2d78c"
      },
      "source": [
        "#Probabilidade de Sistema está funcionado\n",
        "print(\"XYZ∩K∩VW=P(XYZ)*P(K)*P(VW):\",0.973*0.9*0.9775)"
      ],
      "execution_count": 16,
      "outputs": [
        {
          "output_type": "stream",
          "text": [
            "XYZ∩K∩VW=P(XYZ)*P(K)*P(VW): 0.8559967500000001\n"
          ],
          "name": "stdout"
        }
      ]
    },
    {
      "cell_type": "markdown",
      "metadata": {
        "id": "HHEr-3DD94UK",
        "colab_type": "text"
      },
      "source": [
        "###Terceiro e Ultimo Exercicio comentado\n",
        "\n",
        "Problema de Monty Hall\n",
        "\n",
        "Temos um premio em 1 uma porta e 2 portas estão vazias"
      ]
    },
    {
      "cell_type": "code",
      "metadata": {
        "id": "at7qdj28-Pfk",
        "colab_type": "code",
        "colab": {}
      },
      "source": [
        "vazia_one = 1/3\n",
        "vazia_two = 1/3\n",
        "carro = 1/3\n",
        "\n",
        "#quando se abre uma porta, a outra ganha a informação\n",
        "#Trocar compensa pois ha 2/3 de chance de acertar"
      ],
      "execution_count": 0,
      "outputs": []
    }
  ]
}
